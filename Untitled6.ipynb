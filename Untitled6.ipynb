{
 "cells": [
  {
   "cell_type": "code",
   "execution_count": 1,
   "id": "ae254965-c236-402e-a8ec-1909ca6745b4",
   "metadata": {},
   "outputs": [
    {
     "data": {
      "image/png": "[encoded data removed]",
      "text/plain": [
       "<Figure size 800x600 with 1 Axes>"
      ]
     },
     "metadata": {},
     "output_type": "display_data"
    }
   ],
   "source": [
    "#A1\n",
    "import pandas as pd\n",
    "import matplotlib.pyplot as plt\n",
    "df = pd.read_csv('mldatasetfinal numbers.csv')\n",
    "\n",
    "feature1 = df['Body Type']\n",
    "feature2 = df['Location']\n",
    "\n",
    "plt.figure(figsize=(8, 6))\n",
    "plt.scatter(feature1, feature2, color='b', alpha=0.5)\n",
    "plt.title('Scatter Plot of Two Features')\n",
    "plt.xlabel('Feature 1')\n",
    "plt.ylabel('Feature 2')\n",
    "plt.grid(True)\n",
    "plt.show()\n"
   ]
  },
  {
   "cell_type": "code",
   "execution_count": 12,
   "id": "c81c8f1e-a2b1-4300-8192-da41688bd39d",
   "metadata": {},
   "outputs": [
    {
     "name": "stdout",
     "output_type": "stream",
     "text": [
      "Mean Squared Error: 7813066726374\n"
     ]
    }
   ],
   "source": [
    "#A2\n",
    "from sklearn.linear_model import LinearRegression\n",
    "from sklearn.metrics import mean_squared_error\n",
    "independent_variable = 'Body Type'\n",
    "dependent_variable = 'Price'\n",
    "model = LinearRegression()\n",
    "model.fit(df[[independent_variable]], df[dependent_variable])\n",
    "predicted_values = model.predict(df[[independent_variable]])\n",
    "mse = mean_squared_error(df[dependent_variable], predicted_values)\n",
    "mse_rounded = round(mse)\n",
    "print(f\"Mean Squared Error: {mse_rounded}\")\n"
   ]
  },
  {
   "cell_type": "code",
   "execution_count": 13,
   "id": "c50c2593-ab14-430a-add7-d0b363d684ca",
   "metadata": {},
   "outputs": [
    {
     "name": "stdout",
     "output_type": "stream",
     "text": [
      "Intercept (Bias): 1344817.2191702726\n",
      "Coefficients (Weights): [302568.11417008]\n"
     ]
    }
   ],
   "source": [
    "#A3\n",
    "import pandas as pd\n",
    "from sklearn.linear_model import LinearRegression\n",
    "df = pd.read_csv('mldatasetfinal numbers.csv')  \n",
    "X = df[['Body Type']] \n",
    "y = df['Price'] \n",
    "model = LinearRegression()\n",
    "model.fit(X, y)\n",
    "print(\"Intercept (Bias):\", model.intercept_)\n",
    "print(\"Coefficients (Weights):\", model.coef_)\n"
   ]
  },
  {
   "cell_type": "code",
   "execution_count": 29,
   "id": "476246d8-e451-4347-9f5f-f2b4037f60b4",
   "metadata": {},
   "outputs": [
    {
     "name": "stdout",
     "output_type": "stream",
     "text": [
      "Decision Tree Mean Squared Error: 5331544794535.969\n",
      "k-NN Regressor Mean Squared Error: 7035687261564.449\n"
     ]
    }
   ],
   "source": [
    "#A5\n",
    "from sklearn.model_selection import train_test_split\n",
    "from sklearn.tree import DecisionTreeRegressor\n",
    "from sklearn.neighbors import KNeighborsRegressor\n",
    "from sklearn.metrics import mean_squared_error\n",
    "\n",
    "\n",
    "X = df[['Body Type', 'Location']]  \n",
    "y = df['Price']  \n",
    "X_train, X_test, y_train, y_test = train_test_split(X, y, test_size=0.2, random_state=42)\n",
    "reg_tree = DecisionTreeRegressor()\n",
    "reg_tree.fit(X_train, y_train)\n",
    "y_pred_tree = reg_tree.predict(X_test)\n",
    "mse_tree = mean_squared_error(y_test, y_pred_tree)\n",
    "print(\"Decision Tree Mean Squared Error:\", mse_tree)\n",
    "knn_regressor = KNeighborsRegressor(n_neighbors=2) \n",
    "knn_regressor.fit(X_train, y_train)\n",
    "y_pred_knn = knn_regressor.predict(X_test)\n",
    "mse_knn = mean_squared_error(y_test, y_pred_knn)\n",
    "print(\"k-NN Regressor Mean Squared Error:\", mse_knn)\n"
   ]
  },
  {
   "cell_type": "code",
   "execution_count": 4,
   "id": "1c8e25a8-3014-4003-8871-0e71f68ff6de",
   "metadata": {},
   "outputs": [
    {
     "name": "stdout",
     "output_type": "stream",
     "text": [
      "Accuracy on the test set: 0.66\n"
     ]
    }
   ],
   "source": [
    "#A4\n",
    "import pandas as pd\n",
    "from sklearn.model_selection import train_test_split\n",
    "from sklearn.linear_model import LogisticRegression\n",
    "from sklearn.metrics import accuracy_score\n",
    "data = pd.read_csv('mldatasetfinal numbers.csv')\n",
    "threshold = 2000000 \n",
    "data['PriceClass'] = data['Price'] > threshold\n",
    "X = data[['Body Type']]\n",
    "y = data['PriceClass']\n",
    "X_train, X_test, y_train, y_test = train_test_split(X, y, test_size=0.3, random_state=42)\n",
    "logistic_regression = LogisticRegression()\n",
    "logistic_regression.fit(X_train, y_train)\n",
    "y_pred = logistic_regression.predict(X_test)\n",
    "accuracy = accuracy_score(y_test, y_pred)\n",
    "print(f'Accuracy on the test set: {accuracy:.2f}')"
   ]
  },
  {
   "cell_type": "code",
   "execution_count": null,
   "id": "f4e43f64-2e67-4dd4-840c-0b413617dab6",
   "metadata": {},
   "outputs": [],
   "source": []
  }
 ],
 "metadata": {
  "kernelspec": {
   "display_name": "Python 3 (ipykernel)",
   "language": "python",
   "name": "python3"
  },
  "language_info": {
   "codemirror_mode": {
    "name": "ipython",
    "version": 3
   },
   "file_extension": ".py",
   "mimetype": "text/x-python",
   "name": "python",
   "nbconvert_exporter": "python",
   "pygments_lexer": "ipython3",
   "version": "3.12.0"
  }
 },
 "nbformat": 4,
 "nbformat_minor": 5
}
